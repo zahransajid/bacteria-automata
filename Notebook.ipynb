{
 "cells": [
  {
   "cell_type": "code",
   "execution_count": 2,
   "metadata": {},
   "outputs": [],
   "source": [
    "import pandas as pd\n",
    "from matplotlib import pyplot as plt\n",
    "import numpy as np"
   ]
  },
  {
   "cell_type": "code",
   "execution_count": 9,
   "metadata": {},
   "outputs": [],
   "source": [
    "y = np.random.normal(0,1,(100,1))"
   ]
  },
  {
   "cell_type": "code",
   "execution_count": 12,
   "metadata": {},
   "outputs": [
    {
     "data": {
      "text/plain": [
       "(array([ 2.,  0.,  1.,  1.,  3.,  4.,  2.,  7., 11., 11., 10., 11., 11.,\n",
       "         7.,  6.,  3.,  1.,  4.,  2.,  3.]),\n",
       " array([-3.03679539, -2.75783126, -2.47886712, -2.19990299, -1.92093886,\n",
       "        -1.64197472, -1.36301059, -1.08404645, -0.80508232, -0.52611819,\n",
       "        -0.24715405,  0.03181008,  0.31077422,  0.58973835,  0.86870248,\n",
       "         1.14766662,  1.42663075,  1.70559489,  1.98455902,  2.26352315,\n",
       "         2.54248729]),\n",
       " <BarContainer object of 20 artists>)"
      ]
     },
     "execution_count": 12,
     "metadata": {},
     "output_type": "execute_result"
    },
    {
     "data": {
      "image/png": "[encoded data removed]",
      "text/plain": [
       "<Figure size 640x480 with 1 Axes>"
      ]
     },
     "metadata": {},
     "output_type": "display_data"
    }
   ],
   "source": [
    "plt.hist(y,bins=20)"
   ]
  }
 ],
 "metadata": {
  "kernelspec": {
   "display_name": "Python 3 (ipykernel)",
   "language": "python",
   "name": "python3"
  },
  "language_info": {
   "codemirror_mode": {
    "name": "ipython",
    "version": 3
   },
   "file_extension": ".py",
   "mimetype": "text/x-python",
   "name": "python",
   "nbconvert_exporter": "python",
   "pygments_lexer": "ipython3",
   "version": "3.11.0"
  },
  "vscode": {
   "interpreter": {
    "hash": "b0734567512532d2fbc374f1fe4f674b4f0f380b15e39b95464b38a13a24ced2"
   }
  }
 },
 "nbformat": 4,
 "nbformat_minor": 2
}
